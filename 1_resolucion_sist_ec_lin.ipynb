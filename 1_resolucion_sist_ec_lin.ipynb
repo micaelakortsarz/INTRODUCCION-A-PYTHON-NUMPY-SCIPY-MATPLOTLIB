{
  "nbformat": 4,
  "nbformat_minor": 0,
  "metadata": {
    "colab": {
      "name": "1-resolucion-sist-ec-lin.ipynb",
      "provenance": []
    },
    "kernelspec": {
      "name": "python3",
      "display_name": "Python 3"
    },
    "language_info": {
      "name": "python"
    }
  },
  "cells": [
    {
      "cell_type": "markdown",
      "metadata": {
        "id": "PeK4x--Uwpgy"
      },
      "source": [
        "##1- Resolución de sistemas de ecuaciones lineales\n",
        "\n",
        "El problema particular que voy a plantear es resolver el siguiente sistema de ecuaciones de la forma más simple que pueda\n",
        "\n",
        "x + z = −2\n",
        "\n",
        "2x − y + z = 1\n",
        "\n",
        "−3x + 2y − 2z = −1\n",
        "\n",
        "\n",
        "---\n",
        "\n"
      ]
    },
    {
      "cell_type": "code",
      "metadata": {
        "id": "bujI1LxGwpCt"
      },
      "source": [
        "from sympy import *\n",
        "from sympy.solvers.solveset import linsolve\n",
        "import matplotlib.pyplot as plt\n",
        "import numpy as np\n",
        "import scipy.stats as stats"
      ],
      "execution_count": 1,
      "outputs": []
    },
    {
      "cell_type": "code",
      "metadata": {
        "colab": {
          "base_uri": "https://localhost:8080/"
        },
        "id": "STPB9mGPxGRR",
        "outputId": "91114b7a-1292-4e96-d3b5-5ca32c223444"
      },
      "source": [
        "x, y, z = symbols('x,y,z')\n",
        "print(\"Ejercicio 1\")\n",
        "sol=linsolve(Matrix(([1, 0, 1, -2], [2, -1, 1, 1], [-3, 2, -2, -1])), (x, y, z))\n",
        "print('La solución al sistema de ecuaciones es:\\n x={}\\n y={}\\n z={}'.format(\\\n",
        "                                sol.args[0][0], sol.args[0][1],sol.args[0][2]))"
      ],
      "execution_count": 3,
      "outputs": [
        {
          "output_type": "stream",
          "text": [
            "Ejercicio 1\n",
            "La solución al sistema de ecuaciones es:\n",
            " x=1\n",
            " y=-2\n",
            " z=-3\n"
          ],
          "name": "stdout"
        }
      ]
    }
  ]
}