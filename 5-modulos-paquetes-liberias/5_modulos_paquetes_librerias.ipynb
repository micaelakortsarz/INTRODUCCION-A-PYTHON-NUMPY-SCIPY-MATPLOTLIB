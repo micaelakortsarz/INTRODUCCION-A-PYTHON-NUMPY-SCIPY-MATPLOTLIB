{
  "nbformat": 4,
  "nbformat_minor": 0,
  "metadata": {
    "colab": {
      "name": "5-modulos_paquetes_librerias.ipynb",
      "provenance": []
    },
    "kernelspec": {
      "name": "python3",
      "display_name": "Python 3"
    },
    "language_info": {
      "name": "python"
    }
  },
  "cells": [
    {
      "cell_type": "markdown",
      "metadata": {
        "id": "bGAGW4DM-AEU"
      },
      "source": [
        "El siguiente ejercicio se dividirá en 3 partes:\n",
        "\n",
        "1. Crear un módulo circunferencia.py donde se define la constante PI y la función area(r) que calcula el área para una circunferencia de radio r. Importar el módulo con el alias circle. Verificar el valor de PI y calcular el área. Luego importar del modulo la constante PI y la función area(r) utilizando la sintaxis from .... import ... y verificar nuevamente la constante y calcular el área. También es interesante analizar la pregunta utilizando la función **is**: ¿Son los mismos objeto?\n",
        "\n",
        "2. Crear un paquete llamado geometria el cual contenga al módulo circunferencia creado anteriormente y otro análogo que se llame rectangulo, también con la función area que permite calcular su área.\n",
        "9. Generar la estructura de paquetes, módulos y archivos que necesite para que las siguientes instrucciones funcione correctamente:\n",
        "\n",
        "  • import p0_lib\n",
        "\n",
        "  • from p0_lib import rectangulo\n",
        "\n",
        "  • from p0_lib.circunferencia import PI, area\n",
        "\n",
        "  • from p0_lib.elipse import area\n",
        "\n",
        "  • from p0_lib.rectangulo import area as area_rect"
      ]
    },
    {
      "cell_type": "code",
      "metadata": {
        "colab": {
          "base_uri": "https://localhost:8080/"
        },
        "id": "IBNwleVw9_dM",
        "outputId": "debf18ab-2696-4998-fdbb-c6b4dc3b282b"
      },
      "source": [
        "#El directorio de ejecución debe ser el correcto\n",
        "#(por ejemplo donde se encuentren los modulos y librerias)\n",
        "#para poder correr correctamente el siguiente script\n",
        "\n",
        "print(\"Importando modulo CIRCUNFERENCIA\")\n",
        "import circunferencia as circle\n",
        "from circunferencia import PI, area\n",
        "\n",
        "print('Del módulo circunferencia: PI={0:.3f} y Area(r=1)={1:.3f} '.format(circle.PI, \n",
        "                                                                          circle.area(1)))\n",
        "print('Importando de las dos maneras requeridas, la constante PI es el mismo objeto:{}'.format(PI is circle.PI))\n",
        "print('Importando de las dos maneras requeridas, el área calculada es el mismo objeto:{}'.format(area(1) is circle.area(1)))\n",
        "\n",
        "#______________________________________________________________________________________________________________\n",
        "print(\"Importando del paquete GEOMETRIA los modulos CIRCUNFERENCIA y RECTANGULO\")\n",
        "import geometria.circunferencia\n",
        "import geometria.rectangulo\n",
        "\n",
        "print(\"PI={0:.3f}, AreaCircunferencia(r=1)={1:.3f}, AreaRectangulo(a=1,b=2)={2:.3f}\".format(geometria.circunferencia.PI,\n",
        "                                                                                            geometria.circunferencia.area(1),\n",
        "                                                                             geometria.rectangulo.area(1, 2)))\n",
        "#______________________________________________________________________________________________________________\n",
        "print(\"Importando librería p0_lib y sus contenidos\")\n",
        "import p0_lib\n",
        "from p0_lib import rectangulo\n",
        "from p0_lib.circunferencia import PI, area\n",
        "from p0_lib.elipse import PI, area\n",
        "from p0_lib.rectangulo import area as area_rect\n",
        "\n",
        "print( p0_lib.circunferencia.PI, p0_lib.circunferencia.area(1),\n",
        "      p0_lib.elipse.PI, p0_lib.elipse.area(1, 2),p0_lib.rectangulo.area(1, 2),\n",
        "      area_rect(1, 2))"
      ],
      "execution_count": 2,
      "outputs": [
        {
          "output_type": "stream",
          "text": [
            "Importando modulo CIRCUNFERENCIA\n",
            "Del módulo circunferencia: PI=3.142 y Area(r=1)=3.142 \n",
            "Importando de las dos maneras requeridas, la constante PI es el mismo objeto:True\n",
            "Importando de las dos maneras requeridas, el área calculada es el mismo objeto:False\n",
            "Importando del paquete GEOMETRIA los modulos CIRCUNFERENCIA y RECTANGULO\n",
            "PI=3.142, AreaCircunferencia(r=1)=3.142, AreaRectangulo(a=1,b=2)=2.000\n",
            "Importando librería p0_lib y sus contenidos\n",
            "3.14159265359 3.14159265359 3.14159265359 6.28318530718 2 2\n"
          ],
          "name": "stdout"
        }
      ]
    }
  ]
}