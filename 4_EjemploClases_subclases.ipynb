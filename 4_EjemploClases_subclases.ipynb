{
  "nbformat": 4,
  "nbformat_minor": 0,
  "metadata": {
    "colab": {
      "name": "4-EjemploClases-subclases.ipynb",
      "provenance": []
    },
    "kernelspec": {
      "name": "python3",
      "display_name": "Python 3"
    },
    "language_info": {
      "name": "python"
    }
  },
  "cells": [
    {
      "cell_type": "markdown",
      "metadata": {
        "id": "omU5YOr32tao"
      },
      "source": [
        "##Approach para principiantes de POO, donde definiremos una clase y, heredando de esta última, crear una subclase.\n",
        "\n",
        "El problema se divide en dos instancias:\n",
        "\n",
        "1- Definir una clase Lineal que recibe parámetros a, b en su constructor, y un método que evalúe la ecuación ax+b. Definir el método para que pueda ser invocado como una función, por ejemplo, sea f un objeto de la clase Lineal entonces f(5) debe retornar a5 + b.\n",
        "\n",
        "2- Herede de la clase Lineal una subclase Exponencial que resuelva la ecuación ax^b"
      ]
    },
    {
      "cell_type": "code",
      "metadata": {
        "id": "m3mZV20e2hwc"
      },
      "source": [
        "import numpy as np"
      ],
      "execution_count": 1,
      "outputs": []
    },
    {
      "cell_type": "code",
      "metadata": {
        "id": "AwjLACrk3P0f"
      },
      "source": [
        "#Primera parte del problema donde creamos la clase Lineal\n",
        "\n",
        "class Lineal:\n",
        "    def __init__(self, a, b):\n",
        "        self.a = a\n",
        "        self.b = b\n",
        "\n",
        "    def __call__(self, x): return (self.a * x) + self.b\n"
      ],
      "execution_count": 2,
      "outputs": []
    },
    {
      "cell_type": "code",
      "metadata": {
        "id": "OBGNq30k3fqw"
      },
      "source": [
        "#Segunda parte del problema donde creamos, utilizando herencia,\n",
        "#a la clase Exponencial\n",
        "\n",
        "class Exponencial(Lineal):\n",
        "    def __init__(self, a, b):\n",
        "        Lineal.__init__(self, a, b)\n",
        "\n",
        "    def __call__(self, x): return (self.a * x) ** self.b\n"
      ],
      "execution_count": 3,
      "outputs": []
    },
    {
      "cell_type": "code",
      "metadata": {
        "colab": {
          "base_uri": "https://localhost:8080/"
        },
        "id": "JIGcVKOU3xPg",
        "outputId": "9d034e96-7be8-47bf-af65-21dad6faae69"
      },
      "source": [
        "l = Lineal(1, 1)\n",
        "e = Exponencial(1, 0)\n",
        "print('Para lineal: Si a={}, b={}, aX+b={} considerando x=1'.format(l.a, l.b, l(1)))\n",
        "print('Para exponencial: Si a={}, b={}, aX**b={} considerando x=1'.format(e.a, e.b, e(1)))\n"
      ],
      "execution_count": 4,
      "outputs": [
        {
          "output_type": "stream",
          "text": [
            "Para lineal: Si a=1, b=1, aX+b=2 considerando x=1\n",
            "Para exponencial: Si a=1, b=0, aX**b=1 considerando x=1\n"
          ],
          "name": "stdout"
        }
      ]
    }
  ]
}