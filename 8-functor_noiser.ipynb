{
  "nbformat": 4,
  "nbformat_minor": 0,
  "metadata": {
    "colab": {
      "name": "8-functor para vectorizar una función.ipynb",
      "provenance": []
    },
    "kernelspec": {
      "name": "python3",
      "display_name": "Python 3"
    },
    "language_info": {
      "name": "python"
    }
  },
  "cells": [
    {
      "cell_type": "markdown",
      "metadata": {
        "id": "RJr8JyX0ClcA"
      },
      "source": [
        "Se desea implementar un functor Noiser, cuando es activado con un double como argumento\n",
        "retorne un valor que resulte de sumar al argumento con una componente pseudo-aleatoria.\n",
        "La componente pseudo-aleatoria estará limitada entre 2 umbrales minV y maxV que serán\n",
        "indicados en la construcción del objeto functor. Implementar la clase Noiser y verifique su\n",
        "funcionamiento utilizando la clase np.vectorize para aplicar el functor Noiser a cada\n",
        "elemento del array."
      ]
    },
    {
      "cell_type": "code",
      "metadata": {
        "id": "Ze3Wyb-LCwu3"
      },
      "source": [
        "import numpy as np"
      ],
      "execution_count": 1,
      "outputs": []
    },
    {
      "cell_type": "code",
      "metadata": {
        "colab": {
          "base_uri": "https://localhost:8080/"
        },
        "id": "zlFEEkXGCe96",
        "outputId": "45c17e19-525d-4073-be0e-332baa79fd02"
      },
      "source": [
        "class Noiser():\n",
        "    def __init__(self, minV, maxV):\n",
        "        self.__minV = minV\n",
        "        self.__maxV = maxV\n",
        "\n",
        "    def __call__(self,x,dtype='double'): return (x + (self.__maxV - self.__minV) * np.random.rand() + self.__minV)\n",
        "\n",
        "Noiser_v = np.vectorize(Noiser(2, 5))\n",
        "x = np.linspace(1, 10, 10)\n",
        "print('Array original:{}\\n Luego de aplicar Noiser con minV=2 y maxV=5 para la componente pseudoaleatoria:{}'.format(x, Noiser_v(x)))\n",
        "\n",
        "\n",
        "\n"
      ],
      "execution_count": 2,
      "outputs": [
        {
          "output_type": "stream",
          "text": [
            "Array original:[ 1.  2.  3.  4.  5.  6.  7.  8.  9. 10.]\n",
            " Luego de aplicar Noiser con minV=2 y maxV=5 para la componente pseudoaleatoria:[ 3.17552365  4.68363019  5.96071481  7.15077783  8.50994447  8.48978186\n",
            " 11.71654225 11.17035711 13.92005011 12.63565214]\n"
          ],
          "name": "stdout"
        }
      ]
    }
  ]
}